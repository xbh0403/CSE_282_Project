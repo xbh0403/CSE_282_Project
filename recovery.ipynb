{
 "cells": [
  {
   "cell_type": "code",
   "execution_count": 4,
   "metadata": {},
   "outputs": [],
   "source": [
    "import os\n",
    "import json\n",
    "from JunkReadRecovery import JunkReadRecovery\n",
    "from Gene import Gene\n",
    "from Read import Read\n",
    "\n",
    "# {'match_reward': 2, 'mismatch_penalty': 4, 'indel_penalty': 3, 'overlap_match_score': 2, 'overlap_mismatch_score': 3, 'threshold': 24}"
   ]
  },
  {
   "cell_type": "code",
   "execution_count": 5,
   "metadata": {},
   "outputs": [],
   "source": [
    "all_files = os.listdir(\"Simulation/algorithm_eval\")"
   ]
  },
  {
   "cell_type": "code",
   "execution_count": 6,
   "metadata": {},
   "outputs": [
    {
     "name": "stdout",
     "output_type": "stream",
     "text": [
      "Aligning overlap reads\n"
     ]
    },
    {
     "name": "stderr",
     "output_type": "stream",
     "text": [
      "  5%|▌         | 48/926 [00:16<04:54,  2.98it/s] \n"
     ]
    }
   ],
   "source": [
    "for file in all_files:\n",
    "    with open(f\"Simulation/algorithm_eval/{file}\", \"r\") as f:\n",
    "        data = json.load(f)\n",
    "    data = {k: [Gene(**d) for d in v] if k in ['v_genes', 'j_genes'] else [Read(**d) for d in v] if k in ['overlap_reads', 'random_reads'] else v for k, v in data.items()}\n",
    "    file_prefix = file.split(\".\")[0]\n",
    "    final_json = JunkReadRecovery(match_reward=2, mismatch_penalty=4, indel_penalty=3,\n",
    "                                  overlap_match_score=2, overlap_mismatch_score=3, \n",
    "                                  threshold=24, data=data, save_path='/new-stg/home/banghua/Pavel/results/'+file_prefix+'_recovered', print_progress=True)"
   ]
  }
 ],
 "metadata": {
  "kernelspec": {
   "display_name": "Pavel",
   "language": "python",
   "name": "python3"
  },
  "language_info": {
   "codemirror_mode": {
    "name": "ipython",
    "version": 3
   },
   "file_extension": ".py",
   "mimetype": "text/x-python",
   "name": "python",
   "nbconvert_exporter": "python",
   "pygments_lexer": "ipython3",
   "version": "3.11.8"
  }
 },
 "nbformat": 4,
 "nbformat_minor": 2
}
